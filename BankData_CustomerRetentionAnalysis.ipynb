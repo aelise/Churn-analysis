{
 "cells": [
  {
   "cell_type": "markdown",
   "metadata": {},
   "source": [
    "## Motivation\n",
    "Industries with a subscriber-based service model, including banking, inevitably suffer from customer attrition, or churn. Identifying customers with a high probability of churn can significantly impact profits if the motivations for churn can be identified and addressed with retention strategies. Historical customer data is extremely valuable for both inferring motivations of past customers and building models to predict which customers are at risk of churn. \n",
    "\n",
    "## Data\n",
    "The dataset used for the current analysis included historical data for 500 customers. Each customer had metrics recorded on banking activities and demographic data. This included (but is not limited to):\n",
    "- If the account is inactive\n",
    "- Credit scores \n",
    "- Account open date\n",
    "- Monthly deposit balances for the period of one year (year previous to churn)\n",
    "- Counts for several types of banking products (VISA, IRA, Loans, etc)\n",
    "- Demographic data such as Zip Code, Age, and Membership Group\n",
    "\n",
    "Half of the dataset were current customers at time of data collection and half had closed their account. This account status was used as the classification metric for churn. \n",
    "\n",
    "## Model Building and Model Evaluation \n",
    "The predictive model was built using a Random Forest Classifier. Most provided metrics were used as features and some aggregated features were created for use in the model. \n",
    "\n",
    "The model consistently produced high accuracy scores on data not used in model building (via cross validation), which demonstrates an ability to accurately predict churn given the aforementioned historical data about a customer. \n",
    "\n",
    "## Actionable Insights \n",
    "The following features were identified as predictive for churn: \n",
    "\n",
    "(redacted for client)\n",
    "\n"
   ]
  },
  {
   "cell_type": "markdown",
   "metadata": {},
   "source": [
    "##Import and Summarize data"
   ]
  },
  {
   "cell_type": "code",
   "execution_count": null,
   "metadata": {
    "collapsed": true
   },
   "outputs": [],
   "source": [
    "# Imports\n",
    "%matplotlib inline \n",
    "import numpy as np\n",
    "import matplotlib.pyplot as plt\n",
    "import pandas as pd\n",
    "import pdb\n",
    "\n",
    "# Options for display purposes\n",
    "pd.set_option('display.max_columns', 500)\n",
    "pd.set_option('display.width', 1000)"
   ]
  },
  {
   "cell_type": "code",
   "execution_count": null,
   "metadata": {
    "collapsed": false
   },
   "outputs": [],
   "source": [
    "# Grab data and preview\n",
    "data = pd.read_excel('DataSet.xlsx',sheetname='Data')\n",
    "data.head()"
   ]
  },
  {
   "cell_type": "code",
   "execution_count": null,
   "metadata": {
    "collapsed": false
   },
   "outputs": [],
   "source": [
    "data.describe()"
   ]
  },
  {
   "cell_type": "markdown",
   "metadata": {},
   "source": [
    "**Summary of Data types**  \n",
    "And categorizing which need cleanup before running through model\n",
    "\n",
    "*Nominal* - 'Membership Status' 'Inactive' 'Membership Zip Code' 'Membership Branch (Historical)' 'Membership Branch (Current)' \n",
    "\n",
    "*Nominal (text)* - 'Membership Account Type' 'Membership Group' \n",
    "\n",
    "*Ordinal (text)* - 'Age Band' 'Original Credit Score Band' 'Recent Fico Credit Score Band'\n",
    "\n",
    "*Interval* - 'Membership Account Open Date' \n",
    "\n",
    "*Ratio* - 'Duration (Years)' 'Deposit Transaction Count' 0-11 'Monthly Deposit Balance $' 0-11 'Loan Balance $' 0-11 'Total Savings Products' 'Total Checking Products' 'Total CD Product Count' 'Total Money Market' 'Total IRA Products' 'Total Personal Loans' 'Total New Auto Loans' 'Total Used Auto Loans' 'Total VISA Products', 'Total Mortgage Products' 'Total Other Loans' 'Total Products' 'Loan App Denied Count' 'Loan App Cancelled Count' 'Loan App Approval Count' 'Online Banking Count' 0-11 'Online Bill Pay Count' 0-11 'Online Direct Deposit Count' 0-11\n",
    "\n",
    "*Garbage* - 'Average Monthly Transactions'? 'Identifier' 'Membership Account Close Date'"
   ]
  },
  {
   "cell_type": "markdown",
   "metadata": {},
   "source": [
    "##Data clean up:"
   ]
  },
  {
   "cell_type": "code",
   "execution_count": null,
   "metadata": {
    "collapsed": true
   },
   "outputs": [],
   "source": [
    "# First row is not needed / annoying\n",
    "data=data[1:]"
   ]
  },
  {
   "cell_type": "code",
   "execution_count": null,
   "metadata": {
    "collapsed": false
   },
   "outputs": [],
   "source": [
    "# Mapping of ordinal text to integer data\n",
    "\n",
    "print np.unique(data['Age Band'])  \n",
    "#[0 999 u'0-17' u'18-34' u'35-54' u'55+']\n",
    "data['Age Band'].replace(999,0,inplace=True)\n",
    "agefeaturemap = {label:idx for idx,label in enumerate(np.unique(data['Age Band']))}\n",
    "print agefeaturemap\n",
    "data['Age Band'] = data['Age Band'].map(agefeaturemap)\n",
    "\n",
    "print np.unique(data['Original Credit Score Band']) \n",
    "#[0 u'300-553' u'554-602' u'603-640' u'641-685' u'686-733' u'734-850']\n",
    "creditscoremap = {label:idx for idx,label in enumerate(np.unique(data['Original Credit Score Band']))}\n",
    "print creditscoremap\n",
    "data['Original Credit Score Band'] = data['Original Credit Score Band'].map(creditscoremap)\n",
    "\n",
    "print np.unique(data['Recent Fico Credit Score Band']) \n",
    "#[0 u'300-553' u'554-602' u'603-640' u'641-685' u'686-733' u'734-850']\n",
    "data['Recent Fico Credit Score Band'] = data['Recent Fico Credit Score Band'].map(creditscoremap)"
   ]
  },
  {
   "cell_type": "code",
   "execution_count": null,
   "metadata": {
    "collapsed": false
   },
   "outputs": [],
   "source": [
    "# One-hot encoding of nominal text data \n",
    "data = pd.get_dummies(data, columns=['Membership Account Type', 'Membership Group'])\n",
    "data.head()"
   ]
  },
  {
   "cell_type": "code",
   "execution_count": null,
   "metadata": {
    "collapsed": true
   },
   "outputs": [],
   "source": [
    "# Interval data - split dates into several features\n",
    "data['year'] = data['Membership Account Open Date'].dt.year\n",
    "data['month'] = data['Membership Account Open Date'].dt.month\n",
    "data['dayofyear'] = data['Membership Account Open Date'].dt.dayofyear\n",
    "data['dayofweek'] = data['Membership Account Open Date'].dt.dayofweek\n",
    "data['day'] = data['Membership Account Open Date'].dt.day"
   ]
  },
  {
   "cell_type": "code",
   "execution_count": null,
   "metadata": {
    "collapsed": false
   },
   "outputs": [],
   "source": [
    "# Drop columns to avoid GIGO\n",
    "data.drop(['Average Monthly Transactions', 'Identifier', 'Membership Account Close Date'], \\\n",
    "          axis=1, inplace=True)\n",
    "data.drop(['Membership Account Open Date'], axis=1, inplace=True)"
   ]
  },
  {
   "cell_type": "code",
   "execution_count": null,
   "metadata": {
    "collapsed": false
   },
   "outputs": [],
   "source": [
    "# Dealing with some obvious data entry errors / hangups... \n",
    "\n",
    "# A weird non-number zip code\n",
    "data['Membership Zip Code'] = [0 if type(x) is not int else x for x in data['Membership Zip Code']]\n",
    "\n",
    "# Some parentheses added to account balances (probably not important for this analysis)\n",
    "\n"
   ]
  },
  {
   "cell_type": "code",
   "execution_count": null,
   "metadata": {
    "collapsed": false
   },
   "outputs": [],
   "source": [
    "# Fixing some stray data types \n",
    "mylist = list(df.select_dtypes(include=['object']).columns)\n",
    "temp = data[mylist].astype(float)\n",
    "temp.head()"
   ]
  },
  {
   "cell_type": "markdown",
   "metadata": {},
   "source": [
    "##Data visualization: "
   ]
  },
  {
   "cell_type": "code",
   "execution_count": null,
   "metadata": {
    "collapsed": false
   },
   "outputs": [],
   "source": [
    "for i in xrange(1,7):\n",
    "    plt.subplot(2,3,i)\n",
    "    plt.hist(data.iloc[:,i].values, bins=20)"
   ]
  },
  {
   "cell_type": "markdown",
   "metadata": {},
   "source": [
    "##Predictive model: "
   ]
  },
  {
   "cell_type": "code",
   "execution_count": null,
   "metadata": {
    "collapsed": false
   },
   "outputs": [],
   "source": [
    "# Split into training and validation data subsets\n",
    "y = data['Membership Status']\n",
    "X = data.drop(['Membership Status'], axis=1)\n",
    "#X = X.iloc[:,0:9]\n",
    "#X = pd.concat([X.iloc[:,3:9], X.iloc[:,:3]], axis=1)\n",
    "\n",
    "from sklearn.cross_validation import train_test_split\n",
    "X_train, X_test, y_train, y_test = train_test_split(\n",
    "    X, y, test_size=0.3, random_state=0)\n"
   ]
  },
  {
   "cell_type": "code",
   "execution_count": null,
   "metadata": {
    "collapsed": false
   },
   "outputs": [],
   "source": [
    "print len(y_train)\n",
    "print sum(y_train)"
   ]
  },
  {
   "cell_type": "code",
   "execution_count": null,
   "metadata": {
    "collapsed": false
   },
   "outputs": [],
   "source": [
    "# Random Forest model \n",
    "from sklearn.ensemble import RandomForestClassifier\n",
    "from sklearn.cross_validation import StratifiedKFold\n",
    "\n",
    "forest = RandomForestClassifier(n_estimators=10000,\n",
    "                                random_state=0,\n",
    "                                n_jobs=-1)\n",
    "\n",
    "#forest.fit(X_train, y_train)\n",
    "#print forest.score(X_test, y_test)\n",
    "\n",
    "\n",
    "#K-fold cross validation code \n",
    "kfold = StratifiedKFold(y=y_train, \n",
    "                        n_folds=10,\n",
    "                        random_state=1)\n",
    "\n",
    "scores = []\n",
    "for k, (train, test) in enumerate(kfold):\n",
    "    forest.fit(X_train[train], y_train[train])\n",
    "    score = forest.score(X_train[test], y_train[test])\n",
    "    scores.append(score)\n",
    "    print('Fold: %s, Acc: %.3f' % (k+1, score))\n",
    "    \n",
    "print('\\nCV accuracy: %.3f +/- %.3f' % (np.mean(scores), np.std(scores)))"
   ]
  },
  {
   "cell_type": "code",
   "execution_count": null,
   "metadata": {
    "collapsed": false
   },
   "outputs": [],
   "source": [
    "print forest.score(X_test, y_test)"
   ]
  },
  {
   "cell_type": "code",
   "execution_count": null,
   "metadata": {
    "collapsed": false,
    "scrolled": true
   },
   "outputs": [],
   "source": [
    "# Evaluate feature importances\n",
    "\n",
    "feat_labels = X.columns.values.tolist()\n",
    "importances = forest.feature_importances_\n",
    "indices = np.argsort(importances)[::-1]\n",
    "\n",
    "for f in range(X_train.shape[1]):\n",
    "    print(\"%2d) %-*s %f\" % (f + 1, 30, \n",
    "                            feat_labels[indices[f]], \n",
    "                            importances[indices[f]]))\n",
    "\n",
    "# plt.title('Feature Importances')\n",
    "# plt.bar(range(X_train.shape[1]), \n",
    "#         importances[indices],\n",
    "#         color='lightblue', \n",
    "#         align='center')\n",
    "\n",
    "# plt.xticks(range(X_train.shape[1]), \n",
    "#            feat_labels, rotation=90)\n",
    "# plt.xlim([-1, X_train.shape[1]])\n",
    "# plt.tight_layout()\n",
    "# # plt.savefig('./figures/random_forest.png', dpi=300)\n",
    "# plt.show()"
   ]
  },
  {
   "cell_type": "code",
   "execution_count": null,
   "metadata": {
    "collapsed": true
   },
   "outputs": [],
   "source": []
  },
  {
   "cell_type": "code",
   "execution_count": null,
   "metadata": {
    "collapsed": true
   },
   "outputs": [],
   "source": []
  }
 ],
 "metadata": {
  "kernelspec": {
   "display_name": "Python 3",
   "language": "python",
   "name": "python3"
  },
  "language_info": {
   "codemirror_mode": {
    "name": "ipython",
    "version": 3
   },
   "file_extension": ".py",
   "mimetype": "text/x-python",
   "name": "python",
   "nbconvert_exporter": "python",
   "pygments_lexer": "ipython3",
   "version": "3.5.0"
  }
 },
 "nbformat": 4,
 "nbformat_minor": 0
}
